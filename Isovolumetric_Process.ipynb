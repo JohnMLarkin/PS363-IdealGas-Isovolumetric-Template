{
  "nbformat": 4,
  "nbformat_minor": 0,
  "metadata": {
    "colab": {
      "name": "Isovolumetric Process.ipynb",
      "provenance": [],
      "collapsed_sections": [],
      "authorship_tag": "ABX9TyPqtuhgm178gzsn82uMGe2Z"
    },
    "kernelspec": {
      "name": "python3",
      "display_name": "Python 3"
    }
  },
  "cells": [
    {
      "cell_type": "markdown",
      "metadata": {
        "id": "VANKgbmTxoYc"
      },
      "source": [
        "# Install and import libraries"
      ]
    },
    {
      "cell_type": "code",
      "metadata": {
        "id": "SMtG2dPFxg3e"
      },
      "source": [
        "!pip install whit-phys-util"
      ],
      "execution_count": null,
      "outputs": []
    },
    {
      "cell_type": "code",
      "metadata": {
        "id": "Wpkd6SthxtAY"
      },
      "source": [
        "import numpy as np\r\n",
        "import pandas as pd\r\n",
        "import matplotlib.pyplot as plt\r\n",
        "import whit_phys_util as buc"
      ],
      "execution_count": null,
      "outputs": []
    },
    {
      "cell_type": "markdown",
      "metadata": {
        "id": "kQVoHnxqx-UV"
      },
      "source": [
        "# Equipment and materials\r\n",
        "| Description | Manufacturer | Model | ID or SN |\r\n",
        "| ----------- | ------------ | ----- | -------- |\r\n",
        "| Data acquisition interface | Vernier | LabPro | fill in |\r\n",
        "| Stainless steel temperature probe | Vernier | fill in | fill in |\r\n",
        "| gas pressure sensor | Vernier | fill in | fill in \r\n",
        "| beaker (2000 mL) | N/A | N/A | N/A |\r\n",
        "| Erlenmeyer flask (250 mL) | N/A | N/A | N/A |\r\n",
        "| one-hole stopper with Luer-lock connector | N/A | N/A | N/A |\r\n",
        "| hot plate | N/A | N/A | N/A |\r\n",
        "\r\n",
        "\r\n",
        "_You should replace the **fill in** entries with appropriate info._"
      ]
    },
    {
      "cell_type": "markdown",
      "metadata": {
        "id": "8obfTMPfzZRw"
      },
      "source": [
        "# Connect to GitHub"
      ]
    },
    {
      "cell_type": "code",
      "metadata": {
        "id": "3xJqUn7TzOfx"
      },
      "source": [
        "repo = buc.local_repository(\"replace me\")"
      ],
      "execution_count": null,
      "outputs": []
    },
    {
      "cell_type": "markdown",
      "metadata": {
        "id": "cmLsow9uzjGn"
      },
      "source": [
        "## Import data"
      ]
    },
    {
      "cell_type": "code",
      "metadata": {
        "id": "JD8etpoXzsUB"
      },
      "source": [
        ""
      ],
      "execution_count": null,
      "outputs": []
    },
    {
      "cell_type": "markdown",
      "metadata": {
        "id": "j0wMQd7Bztfn"
      },
      "source": [
        "# Verify Gay-Lussac's law"
      ]
    },
    {
      "cell_type": "code",
      "metadata": {
        "id": "Pa0Bblf6zv7q"
      },
      "source": [
        ""
      ],
      "execution_count": null,
      "outputs": []
    },
    {
      "cell_type": "markdown",
      "metadata": {
        "id": "FOgCXGfAzwx-"
      },
      "source": [
        "# Verify \"no leak\" assumption"
      ]
    },
    {
      "cell_type": "code",
      "metadata": {
        "id": "pKoNNPv_z1FK"
      },
      "source": [
        ""
      ],
      "execution_count": null,
      "outputs": []
    },
    {
      "cell_type": "markdown",
      "metadata": {
        "id": "KF5WQ30gz1qo"
      },
      "source": [
        "# Verify outside/inside temperature assumption"
      ]
    },
    {
      "cell_type": "code",
      "metadata": {
        "id": "H2tUjrrtz5Di"
      },
      "source": [
        ""
      ],
      "execution_count": null,
      "outputs": []
    }
  ]
}